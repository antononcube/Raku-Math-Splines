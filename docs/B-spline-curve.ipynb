{
 "cells": [
  {
   "cell_type": "markdown",
   "metadata": {},
   "source": [
    "-----\n",
    "\n",
    "## Setup"
   ]
  },
  {
   "cell_type": "code",
   "execution_count": 88,
   "metadata": {},
   "outputs": [],
   "source": [
    "use Math::Matrix;\n",
    "use Math::Splines;\n",
    "use Math::Fitting;\n",
    "use Math::DistanceFunctions;\n",
    "\n",
    "use Data::Reshapers;\n",
    "use Data::Summarizers;\n",
    "use Data::Generators;\n",
    "use Data::Importers;\n",
    "\n",
    "use JavaScript::D3;\n",
    "use JavaScript::Google::Charts;\n",
    "\n",
    "use Hash::Merge;\n",
    "use LLM::Configurations;\n",
    "\n",
    "use Mathematica::Serializer;"
   ]
  },
  {
   "cell_type": "markdown",
   "metadata": {},
   "source": [
    "### Google Charts"
   ]
  },
  {
   "cell_type": "code",
   "execution_count": null,
   "metadata": {},
   "outputs": [],
   "source": [
    "#% javascript\n",
    "google.charts.load('current', {'packages':['corechart']});\n",
    "google.charts.load('current', {'packages':['gauge']});\n",
    "google.charts.load('current', {'packages':['wordtree']});\n",
    "google.charts.load('current', {'packages':['geochart']});\n",
    "google.charts.load('current', {'packages':['table']});\n",
    "google.charts.load('current', {'packages':['line']});\n",
    "google.charts.setOnLoadCallback(function() {\n",
    "    console.log('Google Charts library loaded');\n",
    "});\n"
   ]
  },
  {
   "cell_type": "markdown",
   "metadata": {},
   "source": [
    "#### Dark mode"
   ]
  },
  {
   "cell_type": "code",
   "execution_count": null,
   "metadata": {},
   "outputs": [],
   "source": [
    "my $format = 'html';\n",
    "my $titleTextStyle = { color => 'Ivory', fontSize => 16 };\n",
    "my $backgroundColor = '#1F1F1F';\n",
    "my $legendTextStyle = { color => 'Silver' };\n",
    "my $legend = { position => \"none\", textStyle => {fontSize => 14, color => 'Silver'} };\n",
    "\n",
    "my $hAxis = { title => 'x', titleTextStyle => { color => 'Silver' }, textStyle => { color => 'Gray'}, logScale => False, format => 'decimal'};\n",
    "my $vAxis = { title => 'y', titleTextStyle => { color => 'Silver' }, textStyle => { color => 'Gray'}, logScale => False, format => 'decimal'};\n",
    "\n",
    "my $annotations = {textStyle => {color => 'Silver', fontSize => 10}};\n",
    "my $chartArea = {left => 50, right => 50, top => 50, bottom => 50, width => '90%', height => '90%'};"
   ]
  },
  {
   "cell_type": "markdown",
   "metadata": {},
   "source": [
    "------\n",
    "\n",
    "## Interpolation"
   ]
  },
  {
   "cell_type": "code",
   "execution_count": null,
   "metadata": {},
   "outputs": [],
   "source": [
    "my @points = [[1,2],[0,1],[2,0],[2,2],[3,3],[5,2]];"
   ]
  },
  {
   "cell_type": "code",
   "execution_count": null,
   "metadata": {},
   "outputs": [],
   "source": [
    "my @knots = 0, 0, 0, 0, 1/3, 2/3, 1, 1, 1, 1;"
   ]
  },
  {
   "cell_type": "code",
   "execution_count": null,
   "metadata": {},
   "outputs": [],
   "source": [
    "my @control-points = [[1.0,2.0],[-1.58322,1.80698],[3.44696,-2.0377],[0.649963,3.545],[4.99045,3.20623],[5.0,2.0]];"
   ]
  },
  {
   "cell_type": "code",
   "execution_count": null,
   "metadata": {},
   "outputs": [],
   "source": [
    "my ($min, $max) = @points».head.&{(.min, .max)}();"
   ]
  },
  {
   "cell_type": "code",
   "execution_count": null,
   "metadata": {},
   "outputs": [],
   "source": [
    "my @fit = (0, 0.01 ... 1).map({ b-spline-curve-value(@control-points, :@knots, argument => $_) }).Array;"
   ]
  },
  {
   "cell_type": "code",
   "execution_count": null,
   "metadata": {},
   "outputs": [],
   "source": [
    "@fit ==> encode-to-wl()"
   ]
  },
  {
   "cell_type": "code",
   "execution_count": null,
   "metadata": {},
   "outputs": [],
   "source": [
    "#%html\n",
    "js-google-charts('LineChart', @fit, \n",
    "    title => \"B-spline curve\", \n",
    "    :$titleTextStyle, :$backgroundColor, :$chartArea, :$hAxis, :$vAxis,\n",
    "    lineWidth => 4,\n",
    "    width => 600, \n",
    "    height => 400, \n",
    "    div-id => 'spline2', :$format,\n",
    "    :png-button)"
   ]
  },
  {
   "cell_type": "code",
   "execution_count": null,
   "metadata": {},
   "outputs": [],
   "source": [
    "my @plotData = @fit.map( -> $p { $p.clone.push( @points.map( -> $x { euclidean-distance($p, $x) }).min < 0.04 ?? $p.tail !! NaN )});\n",
    "@plotData = @plotData.map({ <x fit data>.Array Z=> $_.Array })».Hash;\n",
    "\n",
    "deduce-type(@plotData):tally"
   ]
  },
  {
   "cell_type": "code",
   "execution_count": null,
   "metadata": {},
   "outputs": [],
   "source": [
    "#% html\n",
    "\n",
    "js-google-charts('ComboChart', \n",
    "    @plotData,\n",
    "    title => 'Interpolated',\n",
    "    column-names => <x fit data>,\n",
    "    :$backgroundColor, :$titleTextStyle,\n",
    "    :$hAxis, :$vAxis,\n",
    "    seriesType => 'scatter',\n",
    "    series => {\n",
    "        0 => {type => 'line', lineWidth => 4},\n",
    "        1 => {type => 'scatter', pointSize => 3, opacity => 0.1, color => 'Red'},\n",
    "    },\n",
    "    legend => merge-hash($legend, %(position => 'bottom')),\n",
    "    :$chartArea,\n",
    "    width => 800, \n",
    "    height => 400, \n",
    "    div-id => 'interp', :$format,\n",
    "    :png-button)"
   ]
  }
 ],
 "metadata": {
  "kernelspec": {
   "display_name": "RakuChatbook",
   "language": "raku",
   "name": "raku"
  },
  "language_info": {
   "file_extension": ".raku",
   "mimetype": "text/x-raku",
   "name": "raku",
   "version": "6.d"
  }
 },
 "nbformat": 4,
 "nbformat_minor": 2
}
