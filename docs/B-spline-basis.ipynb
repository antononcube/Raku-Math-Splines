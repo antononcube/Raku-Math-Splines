{
 "cells": [
  {
   "cell_type": "markdown",
   "metadata": {},
   "source": [
    "-----\n",
    "\n",
    "## Setup"
   ]
  },
  {
   "cell_type": "code",
   "execution_count": 1,
   "metadata": {},
   "outputs": [],
   "source": [
    "use Math::Matrix;\n",
    "use Math::Splines;\n",
    "use Math::Polynomial::Chebyshev;\n",
    "use Math::Fitting;\n",
    "\n",
    "use Data::Reshapers;\n",
    "use Data::Summarizers;\n",
    "use Data::Generators;\n",
    "use Data::Importers;\n",
    "\n",
    "use JavaScript::D3;\n",
    "use JavaScript::Google::Charts;\n",
    "\n",
    "use Hash::Merge;\n",
    "use LLM::Configurations;\n",
    "\n",
    "use Mathematica::Serializer;"
   ]
  },
  {
   "cell_type": "markdown",
   "metadata": {},
   "source": [
    "### Google Charts"
   ]
  },
  {
   "cell_type": "code",
   "execution_count": null,
   "metadata": {},
   "outputs": [],
   "source": [
    "#% javascript\n",
    "google.charts.load('current', {'packages':['corechart']});\n",
    "google.charts.load('current', {'packages':['gauge']});\n",
    "google.charts.load('current', {'packages':['wordtree']});\n",
    "google.charts.load('current', {'packages':['geochart']});\n",
    "google.charts.load('current', {'packages':['table']});\n",
    "google.charts.load('current', {'packages':['line']});\n",
    "google.charts.setOnLoadCallback(function() {\n",
    "    console.log('Google Charts library loaded');\n",
    "});\n"
   ]
  },
  {
   "cell_type": "markdown",
   "metadata": {},
   "source": [
    "#### Dark mode"
   ]
  },
  {
   "cell_type": "code",
   "execution_count": null,
   "metadata": {},
   "outputs": [],
   "source": [
    "my $format = 'html';\n",
    "my $titleTextStyle = { color => 'Ivory', fontSize => 16 };\n",
    "my $backgroundColor = '#1F1F1F';\n",
    "my $legendTextStyle = { color => 'Silver' };\n",
    "my $legend = { position => \"none\", textStyle => {fontSize => 14, color => 'Silver'} };\n",
    "\n",
    "my $hAxis = { title => 'x', titleTextStyle => { color => 'Silver' }, textStyle => { color => 'Gray'}, logScale => False, format => 'decimal'};\n",
    "my $vAxis = { title => 'y', titleTextStyle => { color => 'Silver' }, textStyle => { color => 'Gray'}, logScale => False, format => 'decimal'};\n",
    "\n",
    "my $annotations = {textStyle => {color => 'Silver', fontSize => 10}};\n",
    "my $chartArea = {left => 50, right => 50, top => 50, bottom => 50, width => '90%', height => '90%'};"
   ]
  },
  {
   "cell_type": "markdown",
   "metadata": {},
   "source": [
    "----\n",
    "\n",
    "## Basic basis plots"
   ]
  },
  {
   "cell_type": "markdown",
   "metadata": {},
   "source": [
    "### Single polynomial"
   ]
  },
  {
   "cell_type": "code",
   "execution_count": null,
   "metadata": {},
   "outputs": [],
   "source": [
    "my @knots = b-spline-knots(n => 10, d => 3);\n",
    "my &bFunc = b-spline-basis(:3degree, :@knots, :3index, arg => Whatever);"
   ]
  },
  {
   "cell_type": "markdown",
   "metadata": {},
   "source": [
    "Single polynomial plot using a [Line chart](https://developers.google.com/chart/interactive/docs/gallery/linechart):"
   ]
  },
  {
   "cell_type": "code",
   "execution_count": null,
   "metadata": {},
   "outputs": [],
   "source": [
    "#%html\n",
    "my $n = 6;\n",
    "my @data = (0, 1/100 ... 1).map({ [$_, &bFunc($_)] });\n",
    "js-google-charts('LineChart', @data, \n",
    "    title => \"B-spline basis\", \n",
    "    :$titleTextStyle, :$backgroundColor, :$chartArea, :$hAxis, :$vAxis,\n",
    "    width => 800, \n",
    "    div-id => 'poly1', :$format,\n",
    "    :png-button)"
   ]
  },
  {
   "cell_type": "markdown",
   "metadata": {},
   "source": [
    "### Full basis"
   ]
  },
  {
   "cell_type": "markdown",
   "metadata": {},
   "source": [
    "Doing fitting we are interested in using bases of functions. Here for first eight Chebyshev-T polynomials make plot data:"
   ]
  },
  {
   "cell_type": "code",
   "execution_count": null,
   "metadata": {},
   "outputs": [],
   "source": [
    "my $d = 3;\n",
    "my @knots = b-spline-knots(:$d, n => 10);\n",
    "my @basis = (^(@knots.elems - $d - 1)).map({ b-spline-basis(:$d, :@knots, index => $_, arg => Whatever) });\n",
    "@basis.elems"
   ]
  },
  {
   "cell_type": "code",
   "execution_count": null,
   "metadata": {},
   "outputs": [],
   "source": [
    "@basis.pairs.map({ $_.key.Str => $_.value.(0.5)})"
   ]
  },
  {
   "cell_type": "code",
   "execution_count": null,
   "metadata": {},
   "outputs": [],
   "source": [
    "my @data = (0, 0.01 ... 1).map(-> $x { [x => $x, |@basis.pairs.map({ $_.key.Str => $_.value.($x) }) ].flat.Hash });\n",
    "\n",
    "deduce-type(@data):tally;"
   ]
  },
  {
   "cell_type": "markdown",
   "metadata": {},
   "source": [
    "Here is the plot with all eight functions:"
   ]
  },
  {
   "cell_type": "code",
   "execution_count": null,
   "metadata": {},
   "outputs": [],
   "source": [
    "#%html\n",
    "js-google-charts('LineChart', @data,\n",
    "    column-names => ['x', |(^@basis.elems)».Str],\n",
    "    title => \"B-spline basis, 0 .. {@basis.elems - 1}\",\n",
    "    :$titleTextStyle,\n",
    "    width => 800, \n",
    "    height => 400,\n",
    "    :$backgroundColor, :$hAxis, :$vAxis,\n",
    "    legend => merge-hash($legend, %(position => 'right')),\n",
    "    chartArea => merge-hash($chartArea, %(right => 100)),\n",
    "    format => 'html', \n",
    "    div-id => \"cheb$n\",\n",
    "    :$format,\n",
    "    :png-button)"
   ]
  },
  {
   "cell_type": "markdown",
   "metadata": {},
   "source": [
    "-----\n",
    "\n",
    "## Temperature data"
   ]
  },
  {
   "cell_type": "markdown",
   "metadata": {},
   "source": [
    "Let us redo the whole workflow with a real life data -- weather temperature data for 4 consecutive years of Greenville, South Carolina, USA. \n",
    "(Where the [Perl and Raku Conference 2025](https://www.perl.com/article/get-ready-for-the-2025-perl-and-raku-conference/) is going to be held.)"
   ]
  },
  {
   "cell_type": "markdown",
   "metadata": {},
   "source": [
    "Here we ingest the time series data:"
   ]
  },
  {
   "cell_type": "code",
   "execution_count": null,
   "metadata": {},
   "outputs": [],
   "source": [
    "my $url = 'https://raw.githubusercontent.com/antononcube/RakuForPrediction-blog/refs/heads/main/Data/dsTemperature-Greenville-SC-USA.csv';\n",
    "my @dsTemperature = data-import($url, headers => 'auto');\n",
    "@dsTemperature = @dsTemperature.deepmap({ $_ ~~ / ^ \\d+ '-' / ?? DateTime.new($_) !! $_.Num });\n",
    "deduce-type(@dsTemperature)"
   ]
  },
  {
   "cell_type": "markdown",
   "metadata": {},
   "source": [
    "Show data summary:"
   ]
  },
  {
   "cell_type": "code",
   "execution_count": null,
   "metadata": {},
   "outputs": [],
   "source": [
    "sink records-summary(@dsTemperature, field-names => <Date AbsoluteTime Temperature>)"
   ]
  },
  {
   "cell_type": "markdown",
   "metadata": {},
   "source": [
    "Here is a plot:"
   ]
  },
  {
   "cell_type": "code",
   "execution_count": null,
   "metadata": {},
   "outputs": [],
   "source": [
    "#% html\n",
    "js-google-charts(\"Scatter\", @dsTemperature.map(*<Date Temperature>), \n",
    "    title => 'Temperature of Greenville, SC, USA',\n",
    "    :$backgroundColor,\n",
    "    hAxis => merge-hash($hAxis, {title => 'Time', format => 'M/yy'}), \n",
    "    vAxis => merge-hash($hAxis, {title => 'Temperature, ℃'}), \n",
    "    :$titleTextStyle, :$chartArea,\n",
    "    width => 1200, \n",
    "    height => 400, \n",
    "    div-id => 'tempData', :$format,\n",
    "    :png-button)"
   ]
  },
  {
   "cell_type": "markdown",
   "metadata": {},
   "source": [
    "Here is a fit -- note the rescaling:"
   ]
  },
  {
   "cell_type": "code",
   "execution_count": null,
   "metadata": {},
   "outputs": [],
   "source": [
    "my ($min, $max) = @dsTemperature.map(*<AbsoluteTime>).Array.&{ (.min, .max) }();"
   ]
  },
  {
   "cell_type": "code",
   "execution_count": null,
   "metadata": {},
   "outputs": [],
   "source": [
    "my &rescale-time = { - $min / ($max - $min) + $_ / ($max - $min)};\n",
    "\n",
    "my $d = 3;\n",
    "my @knots = b-spline-knots(:$d, n => 14);\n",
    "my @basis = (^(@knots.elems - $d - 1)).map({ b-spline-basis(:$d, :@knots, index => $_, arg => Whatever) o &rescale-time });\n",
    "\n",
    "@basis.elems"
   ]
  },
  {
   "cell_type": "code",
   "execution_count": null,
   "metadata": {},
   "outputs": [],
   "source": [
    "my &lm-temp = linear-model-fit(@dsTemperature.map(*<AbsoluteTime Temperature>), :@basis)"
   ]
  },
  {
   "cell_type": "markdown",
   "metadata": {},
   "source": [
    "Her is a plot of the time series and the fit:"
   ]
  },
  {
   "cell_type": "code",
   "execution_count": null,
   "metadata": {},
   "outputs": [],
   "source": [
    "my @fit = @dsTemperature.map(*<AbsoluteTime>)».&lm-temp;\n",
    "my @plotData = transpose([@dsTemperature.map({ $_<AbsoluteTime> }).Array, @dsTemperature.map(*<Temperature>).Array, @fit]);\n",
    "@plotData = @plotData.map({ <x data fit>.Array Z=> $_.Array })».Hash;\n",
    "\n",
    "deduce-type(@plotData)"
   ]
  },
  {
   "cell_type": "code",
   "execution_count": null,
   "metadata": {},
   "outputs": [],
   "source": [
    "#% html\n",
    "\n",
    "my @ticks = @dsTemperature.map({ %( v => $_<AbsoluteTime>, f => $_<Date>.Str.substr(^7)) })».Hash[0, 120 ... *];\n",
    "\n",
    "js-google-charts('ComboChart', \n",
    "    @plotData,\n",
    "    title => 'Temperature data and Least Squares fit',\n",
    "    column-names => <x data fit>,\n",
    "    :$backgroundColor, :$titleTextStyle,\n",
    "    hAxis => merge-hash($hAxis, {title => 'Time', :@ticks, textPosition => 'in'}), \n",
    "    vAxis => merge-hash($hAxis, {title => 'Temperature, ℃'}), \n",
    "    seriesType => 'scatter',\n",
    "    series => {\n",
    "        0 => {type => 'scatter', pointSize => 3, opacity => 0.1, color => 'Gray'},\n",
    "        1 => {type => 'line', lineWidth => 4}\n",
    "    },\n",
    "    legend => merge-hash($legend, %(position => 'bottom')),\n",
    "    :$chartArea,\n",
    "    width => 1200, \n",
    "    height => 400, \n",
    "    div-id => 'tempDataFit', :$format,\n",
    "    :png-button)"
   ]
  }
 ],
 "metadata": {
  "kernelspec": {
   "display_name": "RakuChatbook",
   "language": "raku",
   "name": "raku"
  },
  "language_info": {
   "file_extension": ".raku",
   "mimetype": "text/x-raku",
   "name": "raku",
   "version": "6.d"
  }
 },
 "nbformat": 4,
 "nbformat_minor": 2
}
